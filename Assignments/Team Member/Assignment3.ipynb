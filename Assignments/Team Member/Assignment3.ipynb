{
  "nbformat": 4,
  "nbformat_minor": 0,
  "metadata": {
    "colab": {
      "provenance": []
    },
    "kernelspec": {
      "name": "python3",
      "display_name": "Python 3"
    },
    "language_info": {
      "name": "python"
    }
  },
  "cells": [
    {
      "cell_type": "code",
      "execution_count": null,
      "metadata": {
        "id": "8oYKVhTOAftI"
      },
      "outputs": [],
      "source": [
        "import numpy as np\n",
        "import pandas as pd \n",
        "import matplotlib.pyplot as plt\n",
        "from matplotlib import style \n",
        "import seaborn as sns\n",
        "from sklearn.model_selection import train_test_split\n",
        "from sklearn.metrics import accuracy_score,confusion_matrix\n",
        "from sklearn.preprocessing import LabelEncoder\n",
        "from keras.preprocessing.image import ImageDataGenerator\n",
        "import cv2\n",
        "from tqdm import tqdm \n",
        "import os\n",
        "from random import shuffle\n",
        "from PIL import Image\n",
        "from zipfile import ZipFile\n",
        "import tensorflow as tf\n",
        "import random as rn"
      ]
    },
    {
      "cell_type": "code",
      "source": [
        "x=[]\n",
        "y=[]\n",
        "IMG_SIZE=200\n",
        "FLOWER_DAISY_DIR=\"/content/Flowers-Dataset.zip\"\n",
        "FLOWER_DANDELION_DIR=\"/content/Flowers-Dataset.zip\"\n",
        "FLOWER_ROSE_DIR=\"/content/Flowers-Dataset.zip\"\n",
        "FLOWER_SUNFLOWER_DIR=\"/content/Flowers-Dataset.zip\"\n",
        "FLOWER_TULIP_DIR=\"/content/Flowers-Dataset.zip\""
      ],
      "metadata": {
        "id": "Dyp9vbQ4AguN"
      },
      "execution_count": null,
      "outputs": []
    },
    {
      "cell_type": "code",
      "source": [
        "def assign_label(img,flower_type):\n",
        "  return flower_type"
      ],
      "metadata": {
        "id": "A92B3RCMAgw1"
      },
      "execution_count": null,
      "outputs": []
    },
    {
      "cell_type": "code",
      "source": [
        "def make_train_data(flower_type,DIR):\n",
        "  for img in tqdm(os.listdir(DIR)):\n",
        "    label=assign_label(img,flower_type)\n",
        "    path=os.path.join(DIR,img)\n",
        "    img=cv2.imread(path,cv2.IMREAD_COLOR)\n",
        "    img=cv2.resize(img,(IMG_SIZE,IMG_SIZE))\n",
        "    x.append(np.array(img))\n",
        "    y.append(str(label))"
      ],
      "metadata": {
        "id": "qwVcp_rbAgzp"
      },
      "execution_count": null,
      "outputs": []
    },
    {
      "cell_type": "code",
      "source": [
        "make_train_data('Daisy',FLOWER_DAISY_DIR)\n",
        "print(len(x))"
      ],
      "metadata": {
        "id": "BP_ej3grAg2X"
      },
      "execution_count": null,
      "outputs": []
    },
    {
      "cell_type": "code",
      "source": [
        "make_train_data('Dendelion',FLOWER_DENDALION_DIR)\n",
        "print(len(x))"
      ],
      "metadata": {
        "id": "tZDtXb05Ag5B"
      },
      "execution_count": null,
      "outputs": []
    },
    {
      "cell_type": "code",
      "source": [
        "make_train_data('Rose',FLOWER_ROSE_DIR)\n",
        "print(len(x))"
      ],
      "metadata": {
        "id": "rliaEG-EAg8C"
      },
      "execution_count": null,
      "outputs": []
    },
    {
      "cell_type": "code",
      "source": [
        "make_train_data('Sunflower',FLOWER_SUNFLOWER_DIR)\n",
        "print(len(x))"
      ],
      "metadata": {
        "id": "SLkALFJXAg-5"
      },
      "execution_count": null,
      "outputs": []
    },
    {
      "cell_type": "code",
      "source": [
        "make_train_data('Tulip',FLOWER_TULIP_DIR)\n",
        "print(len(x))"
      ],
      "metadata": {
        "id": "cTsJI7pqAhBX"
      },
      "execution_count": null,
      "outputs": []
    },
    {
      "cell_type": "code",
      "source": [
        "fig,ax=plt.subplots(5,2)\n",
        "fig.set_size_inches(15,15)\n",
        "for i in range(5):\n",
        "  for j in range(2):\n",
        "    l=rn.randint(0,len(y))\n",
        "    ax[i,j].imshow(x[l])\n",
        "    ax[i,j].set_title('Flowers:'+y[l])\n",
        "    plt.tight_layouts()"
      ],
      "metadata": {
        "id": "kQaN3LbzAhEu"
      },
      "execution_count": null,
      "outputs": []
    },
    {
      "cell_type": "code",
      "source": [
        "x_train,x_test,y_train,y_test=train_test_split(x,y,test_size=0.2,random_state=0)"
      ],
      "metadata": {
        "id": "O6UfGShTBGab"
      },
      "execution_count": null,
      "outputs": []
    },
    {
      "cell_type": "code",
      "source": [
        "model.compile(optimizer=Adam(lr=0.001),loss='categorical_crossen_tropy',metrics=['accuracy'])"
      ],
      "metadata": {
        "id": "kahoVQivBGdp"
      },
      "execution_count": null,
      "outputs": []
    },
    {
      "cell_type": "code",
      "source": [
        "model.summary()"
      ],
      "metadata": {
        "id": "YTWK5bF9BPgj"
      },
      "execution_count": null,
      "outputs": []
    },
    {
      "cell_type": "code",
      "source": [
        "plt.plot(History.history['loss']) \n",
        "plt.plot(History.history['val_loss']) \n",
        "plt.title('Model Loss')\n",
        "plt.ylabel('Loss')\n",
        "plt.xlabel('Epochs')\n",
        "plt.legend(['train','test'])\n",
        "plt.show()"
      ],
      "metadata": {
        "id": "X83aDJswBPmm"
      },
      "execution_count": null,
      "outputs": []
    }
  ]
}
